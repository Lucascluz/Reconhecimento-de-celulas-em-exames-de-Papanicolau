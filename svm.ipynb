{
 "cells": [
  {
   "cell_type": "code",
   "execution_count": 1,
   "metadata": {},
   "outputs": [],
   "source": [
    "import os\n",
    "from PIL import Image\n",
    "import cv2\n",
    "import numpy as np\n",
    "\n",
    "# Base directory containing subdirectories of images\n",
    "base_dir = \"sub_images\"\n",
    "\n",
    "# List to hold image data and labels\n",
    "images = []\n",
    "labels = []\n",
    "\n",
    "# Iterate through each subdirectory in the base directory\n",
    "for subdir in os.listdir(base_dir):\n",
    "    subdir_path = os.path.join(base_dir, subdir)\n",
    "    \n",
    "    # Check if it's a directory\n",
    "    if os.path.isdir(subdir_path):\n",
    "        # Process each image in the subdirectory\n",
    "        for filename in os.listdir(subdir_path):\n",
    "            if filename.endswith(\".png\"):\n",
    "                # Construct full file path\n",
    "                file_path = os.path.join(subdir_path, filename)\n",
    "                # Open the image with PIL\n",
    "                with Image.open(file_path) as img:\n",
    "                    # Convert PIL image to NumPy array\n",
    "                    img_array = np.array(img)\n",
    "                    # Convert BGR to RGB\n",
    "                    img_rgb = cv2.cvtColor(img_array, cv2.COLOR_BGR2RGB)\n",
    "                    # Convert RGB to Grayscale\n",
    "                    img_gray = cv2.cvtColor(img_rgb, cv2.COLOR_RGB2GRAY)\n",
    "                    \n",
    "                    # Append the processed image and label\n",
    "                    images.append(img_gray)\n",
    "                    labels.append(subdir)\n",
    "\n",
    "# Convert list to NumPy arrays for machine learning processing\n",
    "images = np.array(images)\n",
    "labels = np.array(labels)\n"
   ]
  },
  {
   "cell_type": "code",
   "execution_count": 2,
   "metadata": {},
   "outputs": [
    {
     "name": "stdout",
     "output_type": "stream",
     "text": [
      "Classification report for classifier SVC():\n",
      "                                     precision    recall  f1-score   support\n",
      "\n",
      "                              ASC-H       0.42      0.04      0.07       195\n",
      "                             ASC-US       0.50      0.01      0.02       111\n",
      "                               HSIL       0.58      0.78      0.67       325\n",
      "                               LSIL       0.49      0.24      0.33       284\n",
      "Negative for intraepithelial lesion       0.74      0.95      0.83      1225\n",
      "                                SCC       0.00      0.00      0.00        34\n",
      "\n",
      "                           accuracy                           0.69      2174\n",
      "                          macro avg       0.46      0.34      0.32      2174\n",
      "                       weighted avg       0.63      0.69      0.62      2174\n",
      "\n",
      "\n"
     ]
    },
    {
     "name": "stderr",
     "output_type": "stream",
     "text": [
      "c:\\Python\\Lib\\site-packages\\sklearn\\metrics\\_classification.py:1509: UndefinedMetricWarning: Precision is ill-defined and being set to 0.0 in labels with no predicted samples. Use `zero_division` parameter to control this behavior.\n",
      "  _warn_prf(average, modifier, f\"{metric.capitalize()} is\", len(result))\n",
      "c:\\Python\\Lib\\site-packages\\sklearn\\metrics\\_classification.py:1509: UndefinedMetricWarning: Precision is ill-defined and being set to 0.0 in labels with no predicted samples. Use `zero_division` parameter to control this behavior.\n",
      "  _warn_prf(average, modifier, f\"{metric.capitalize()} is\", len(result))\n",
      "c:\\Python\\Lib\\site-packages\\sklearn\\metrics\\_classification.py:1509: UndefinedMetricWarning: Precision is ill-defined and being set to 0.0 in labels with no predicted samples. Use `zero_division` parameter to control this behavior.\n",
      "  _warn_prf(average, modifier, f\"{metric.capitalize()} is\", len(result))\n"
     ]
    }
   ],
   "source": [
    "from sklearn.model_selection import train_test_split\n",
    "from sklearn import svm\n",
    "from sklearn.metrics import classification_report, accuracy_score\n",
    "\n",
    "# Flatten the image data into 1D vectors (each image must be a single feature vector)\n",
    "n_samples = len(images)\n",
    "data = images.reshape((n_samples, -1))  # Reshape from (n_samples, img_height, img_width) to (n_samples, img_height*img_width)\n",
    "\n",
    "# Split data into 80% train and 20% test subsets\n",
    "X_train, X_test, y_train, y_test = train_test_split(data, labels, test_size=0.20, random_state=42)\n",
    "\n",
    "# Create a classifier: a support vector classifier\n",
    "classifier = svm.SVC(kernel='rbf', gamma='scale')  # 'rbf' and 'scale' are default but explicitly mentioned here for clarity\n",
    "\n",
    "# Train the classifier\n",
    "classifier.fit(X_train, y_train)\n",
    "\n",
    "# Predict the labels on the test data\n",
    "y_pred = classifier.predict(X_test)\n",
    "\n",
    "# Evaluate the classifier performance\n",
    "print(\"Classification report for classifier %s:\\n%s\\n\"\n",
    "      % (classifier, classification_report(y_test, y_pred)))"
   ]
  },
  {
   "cell_type": "code",
   "execution_count": 3,
   "metadata": {},
   "outputs": [
    {
     "data": {
      "text/plain": [
       "['svm_model.joblib']"
      ]
     },
     "execution_count": 3,
     "metadata": {},
     "output_type": "execute_result"
    }
   ],
   "source": [
    "import joblib\n",
    "joblib.dump(classifier, 'svm_model.joblib')"
   ]
  },
  {
   "cell_type": "code",
   "execution_count": 4,
   "metadata": {},
   "outputs": [],
   "source": [
    "loaded_model = joblib.load('svm_model.joblib')\n",
    "\n",
    "# Use the loaded model to make predictions\n",
    "predictions = loaded_model.predict(X_test)"
   ]
  },
  {
   "cell_type": "code",
   "execution_count": 5,
   "metadata": {},
   "outputs": [
    {
     "name": "stdout",
     "output_type": "stream",
     "text": [
      "Classification report for classifier SVC(class_weight='balanced'):\n",
      "              precision    recall  f1-score   support\n",
      "\n",
      "  com_doenca       0.76      0.83      0.80       949\n",
      "  sem_doenca       0.86      0.80      0.83      1225\n",
      "\n",
      "    accuracy                           0.81      2174\n",
      "   macro avg       0.81      0.82      0.81      2174\n",
      "weighted avg       0.82      0.81      0.81      2174\n",
      "\n",
      "\n"
     ]
    }
   ],
   "source": [
    "import os\n",
    "from PIL import Image\n",
    "import cv2\n",
    "import numpy as np\n",
    "from sklearn.model_selection import train_test_split\n",
    "from sklearn import svm\n",
    "from sklearn.metrics import classification_report, accuracy_score\n",
    "from sklearn.preprocessing import StandardScaler\n",
    "import joblib\n",
    "\n",
    "# Base directory containing subdirectories of images\n",
    "base_dir = \"sub_images\"\n",
    "\n",
    "# List to hold image data and labels\n",
    "images = []\n",
    "labels = []\n",
    "\n",
    "# Iterate through each subdirectory in the base directory\n",
    "for subdir in os.listdir(base_dir):\n",
    "    subdir_path = os.path.join(base_dir, subdir)\n",
    "    \n",
    "    # Check if it's a directory\n",
    "    if os.path.isdir(subdir_path):\n",
    "        # Process each image in the subdirectory\n",
    "        for filename in os.listdir(subdir_path):\n",
    "            if filename.endswith(\".png\"):\n",
    "                # Construct full file path\n",
    "                file_path = os.path.join(subdir_path, filename)\n",
    "                # Open the image with PIL\n",
    "                with Image.open(file_path) as img:\n",
    "                    # Convert PIL image to NumPy array\n",
    "                    img_array = np.array(img)\n",
    "                    # Convert BGR to RGB\n",
    "                    img_rgb = cv2.cvtColor(img_array, cv2.COLOR_BGR2RGB)\n",
    "                    # Convert RGB to Grayscale\n",
    "                    img_gray = cv2.cvtColor(img_rgb, cv2.COLOR_RGB2GRAY)\n",
    "                    \n",
    "                    # Append the processed image and label\n",
    "                    images.append(img_gray)\n",
    "                    # Assign new labels based on the directory\n",
    "                    if subdir == \"Negative for intraepithelial lesion\":\n",
    "                        labels.append(\"sem_doenca\")\n",
    "                    else:\n",
    "                        labels.append(\"com_doenca\")\n",
    "\n",
    "# Convert list to NumPy arrays for machine learning processing\n",
    "images = np.array(images)\n",
    "labels = np.array(labels)\n",
    "\n",
    "# Flatten the image data into 1D vectors\n",
    "n_samples = len(images)\n",
    "data = images.reshape((n_samples, -1))  # Reshape from (n_samples, img_height, img_width) to (n_samples, img_height*img_width)\n",
    "\n",
    "# Split data into 80% train and 20% test subsets\n",
    "X_train, X_test, y_train, y_test = train_test_split(data, labels, test_size=0.20, random_state=42)\n",
    "\n",
    "# Optional: scale the data\n",
    "scaler = StandardScaler()\n",
    "X_train_scaled = scaler.fit_transform(X_train)\n",
    "X_test_scaled = scaler.transform(X_test)\n",
    "\n",
    "# Create the SVM model with balanced class weights\n",
    "model = svm.SVC(kernel='rbf', gamma='scale', class_weight='balanced')\n",
    "model.fit(X_train_scaled, y_train)\n",
    "\n",
    "# Save the model\n",
    "joblib.dump(model, 'svm_model_binario.joblib')\n",
    "\n",
    "# Load the model\n",
    "loaded_model = joblib.load('svm_model_binario.joblib')\n",
    "\n",
    "# Use the loaded model to make predictions\n",
    "y_pred = loaded_model.predict(X_test_scaled)\n",
    "\n",
    "# Print classification report\n",
    "print(\"Classification report for classifier %s:\\n%s\\n\"\n",
    "    % (model, classification_report(y_test, y_pred)))\n"
   ]
  },
  {
   "cell_type": "code",
   "execution_count": null,
   "metadata": {},
   "outputs": [],
   "source": []
  }
 ],
 "metadata": {
  "kernelspec": {
   "display_name": "papanicolau",
   "language": "python",
   "name": "python3"
  },
  "language_info": {
   "codemirror_mode": {
    "name": "ipython",
    "version": 3
   },
   "file_extension": ".py",
   "mimetype": "text/x-python",
   "name": "python",
   "nbconvert_exporter": "python",
   "pygments_lexer": "ipython3",
   "version": "3.12.2"
  }
 },
 "nbformat": 4,
 "nbformat_minor": 2
}
