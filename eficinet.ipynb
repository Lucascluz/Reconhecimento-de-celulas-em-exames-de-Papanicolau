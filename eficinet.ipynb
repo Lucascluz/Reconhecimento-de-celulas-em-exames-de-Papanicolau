{
 "cells": [
  {
   "cell_type": "code",
   "execution_count": 34,
   "metadata": {},
   "outputs": [],
   "source": [
    "import torch\n",
    "import torch.nn as nn\n",
    "import torch.optim as optim\n",
    "from torch.utils.data import DataLoader, Dataset\n",
    "from efficientnet_pytorch import EfficientNet\n",
    "import os\n",
    "from skimage import img_as_ubyte\n",
    "from skimage.feature import graycomatrix, graycoprops\n",
    "from torchvision.io import read_image\n",
    "import torchvision.transforms as transforms\n",
    "from PIL import Image\n",
    "from sklearn.model_selection import train_test_split\n",
    "from sklearn.metrics import accuracy_score, precision_score, recall_score, f1_score, confusion_matrix\n",
    "import numpy as np\n",
    "import seaborn as sns\n",
    "import matplotlib.pyplot as plt"
   ]
  },
  {
   "cell_type": "markdown",
   "metadata": {},
   "source": [
    "# Creating Custom DataSet"
   ]
  },
  {
   "cell_type": "code",
   "execution_count": 35,
   "metadata": {},
   "outputs": [],
   "source": [
    "class CellImageDataset(Dataset):\n",
    "    def __init__(self, img_dir, transform=None):\n",
    "        self.img_dir = img_dir\n",
    "        self.labels = []\n",
    "        self.haralick_descriptors = []\n",
    "        self.image_paths = []\n",
    "        self.transform = transform\n",
    "        self.class_to_idx = {}\n",
    "\n",
    "        for idx, class_name in enumerate(os.listdir(img_dir)):\n",
    "            self.class_to_idx[class_name] = idx\n",
    "            class_dir = os.path.join(img_dir, class_name)\n",
    "            if os.path.isdir(class_dir):\n",
    "                for img_name in os.listdir(class_dir):\n",
    "                    img_path = os.path.join(class_dir, img_name)\n",
    "                    haralick_desc = self.calculate_haralick_descriptors(img_path)\n",
    "                    self.haralick_descriptors.append(haralick_desc)\n",
    "                    self.labels.append(idx)\n",
    "                    self.image_paths.append(img_path)\n",
    "\n",
    "    def __len__(self):\n",
    "        return len(self.labels)\n",
    "\n",
    "    def __getitem__(self, idx):\n",
    "        haralick_desc = self.haralick_descriptors[idx]\n",
    "        label = self.labels[idx]\n",
    "        image = read_image(self.image_paths[idx])\n",
    "        image = transforms.ToPILImage()(image)  # Convert the tensor image to a PIL Image\n",
    "        if self.transform:\n",
    "            image = self.transform(image)\n",
    "        return haralick_desc, image, label\n",
    "\n",
    "    def calculate_haralick_descriptors(self, img_path):\n",
    "        image = read_image(img_path)\n",
    "        gray_image = image.float().mean(dim=0)\n",
    "        gray_image = (gray_image - gray_image.min()) / (gray_image.max() - gray_image.min())\n",
    "        gray_image = img_as_ubyte(gray_image)\n",
    "        co_matrix = graycomatrix(gray_image, distances=[1], angles=[0], levels=256, symmetric=True)\n",
    "        contrast = graycoprops(co_matrix, prop='contrast')[0, 0]\n",
    "        dissimilarity = graycoprops(co_matrix, prop='dissimilarity')[0, 0]\n",
    "        homogeneity = graycoprops(co_matrix, prop='homogeneity')[0, 0]\n",
    "        energy = graycoprops(co_matrix, prop='energy')[0, 0]\n",
    "        correlation = graycoprops(co_matrix, prop='correlation')[0, 0]\n",
    "        asm = graycoprops(co_matrix, prop='ASM')[0, 0]\n",
    "        haralick_desc = torch.tensor([contrast, dissimilarity, homogeneity, energy, correlation, asm], dtype=torch.float32)\n",
    "        return haralick_desc"
   ]
  },
  {
   "cell_type": "markdown",
   "metadata": {},
   "source": [
    "# Adapting EficiNet to the Custom DataSet"
   ]
  },
  {
   "cell_type": "code",
   "execution_count": 36,
   "metadata": {},
   "outputs": [],
   "source": [
    "class HaralickNetwork(nn.Module):\n",
    "    def __init__(self, input_dim, hidden_dim, output_dim):\n",
    "        super(HaralickNetwork, self).__init__()\n",
    "        self.fc1 = nn.Linear(input_dim, hidden_dim)\n",
    "        self.fc2 = nn.Linear(hidden_dim, output_dim)\n",
    "    \n",
    "    def forward(self, x):\n",
    "        x = torch.relu(self.fc1(x))\n",
    "        x = torch.relu(self.fc2(x))\n",
    "        return x\n",
    "\n",
    "class EfficientNetHaralickCombined(nn.Module):\n",
    "    def __init__(self, haralick_input_dim, hidden_dim, haralick_output_dim, num_classes):\n",
    "        super(EfficientNetHaralickCombined, self).__init__()\n",
    "        self.efficient_net = EfficientNet.from_pretrained('efficientnet-b0')\n",
    "        self.haralick_net = HaralickNetwork(haralick_input_dim, hidden_dim, haralick_output_dim)\n",
    "\n",
    "        # Get the output dimension of the EfficientNet feature extractor\n",
    "        efficient_net_output_dim = self.efficient_net._fc.in_features\n",
    "        self.efficient_net._fc = nn.Identity()  # Remove the final classification layer\n",
    "\n",
    "        # Define the combined fully connected layer\n",
    "        self.fc_combined = nn.Linear(efficient_net_output_dim + haralick_output_dim, num_classes)\n",
    "\n",
    "    def forward(self, haralick_features, images):\n",
    "        haralick_out = self.haralick_net(haralick_features)\n",
    "        efficient_net_out = self.efficient_net(images)\n",
    "        efficient_net_out = torch.flatten(efficient_net_out, 1)\n",
    "        combined_out = torch.cat((efficient_net_out, haralick_out), dim=1)\n",
    "        out = self.fc_combined(combined_out)\n",
    "        return out"
   ]
  },
  {
   "cell_type": "code",
   "execution_count": 37,
   "metadata": {},
   "outputs": [],
   "source": [
    "def evaluate_model(model, data_loader, criterion):\n",
    "    model.eval()\n",
    "    running_loss = 0.0\n",
    "    all_labels = []\n",
    "    all_preds = []\n",
    "    with torch.no_grad():\n",
    "        for haralick_desc, images, labels in data_loader:\n",
    "            outputs = model(haralick_desc, images)\n",
    "            loss = criterion(outputs, labels)\n",
    "            running_loss += loss.item()\n",
    "            \n",
    "            _, preds = torch.max(outputs, 1)\n",
    "            all_labels.extend(labels.cpu().numpy())\n",
    "            all_preds.extend(preds.cpu().numpy())\n",
    "    \n",
    "    avg_loss = running_loss / len(data_loader)\n",
    "    accuracy = accuracy_score(all_labels, all_preds)\n",
    "    precision = precision_score(all_labels, all_preds, average='weighted')\n",
    "    recall = recall_score(all_labels, all_preds, average='weighted')\n",
    "    f1 = f1_score(all_labels, all_preds, average='weighted')\n",
    "    \n",
    "    return avg_loss, accuracy, precision, recall, f1, all_labels, all_preds\n",
    "\n",
    "def plot_confusion_matrix(true_labels, pred_labels, classes):\n",
    "    cm = confusion_matrix(true_labels, pred_labels)\n",
    "    plt.figure(figsize=(10, 8))\n",
    "    sns.heatmap(cm, annot=True, fmt='d', cmap='Blues', xticklabels=classes, yticklabels=classes)\n",
    "    plt.xlabel('Predicted')\n",
    "    plt.ylabel('True')\n",
    "    plt.title('Confusion Matrix')\n",
    "    plt.show()"
   ]
  },
  {
   "cell_type": "code",
   "execution_count": 41,
   "metadata": {},
   "outputs": [
    {
     "name": "stdout",
     "output_type": "stream",
     "text": [
      "Loaded pretrained weights for efficientnet-b0\n"
     ]
    }
   ],
   "source": [
    "img_dir = 'partial_sub_images'\n",
    "transform = transforms.Compose([\n",
    "    transforms.Resize((224, 224)),\n",
    "    transforms.ToTensor()\n",
    "])\n",
    "dataset = CellImageDataset(img_dir, transform=transform)\n",
    "\n",
    "train_set, test_set = train_test_split(dataset, test_size=0.2, random_state=42)\n",
    "\n",
    "train_loader = DataLoader(train_set, batch_size=32, shuffle=True)\n",
    "test_loader = DataLoader(test_set, batch_size=32, shuffle=False)\n",
    "\n",
    "input_dim = len(dataset[0][0])\n",
    "hidden_dim = 128\n",
    "haralick_output_dim = 64\n",
    "num_classes = len(dataset.class_to_idx)\n",
    "\n",
    "model = EfficientNetHaralickCombined(input_dim, hidden_dim, haralick_output_dim, num_classes)\n",
    "\n",
    "criterion = nn.CrossEntropyLoss()\n",
    "optimizer = optim.Adam(model.parameters(), lr=0.001)\n",
    "\n"
   ]
  },
  {
   "cell_type": "markdown",
   "metadata": {},
   "source": [
    "# Treinamento do modelo"
   ]
  },
  {
   "cell_type": "code",
   "execution_count": 42,
   "metadata": {},
   "outputs": [
    {
     "name": "stdout",
     "output_type": "stream",
     "text": [
      "Epoch 1 - Loss: 2.3855717976888022\n",
      "Epoch 2 - Loss: 1.315194050470988\n",
      "Epoch 3 - Loss: 0.7926331559816996\n",
      "Epoch 4 - Loss: 0.34570928414662677\n",
      "Epoch 5 - Loss: 0.27536572019259137\n",
      "Epoch 6 - Loss: 0.14050022015968958\n",
      "Epoch 7 - Loss: 0.15652931233247122\n",
      "Epoch 8 - Loss: 0.0634647086262703\n",
      "Epoch 9 - Loss: 0.03012461867183447\n",
      "Epoch 10 - Loss: 0.1618485925719142\n"
     ]
    }
   ],
   "source": [
    "\n",
    "for epoch in range(10):\n",
    "    model.train()\n",
    "    running_loss = 0.0\n",
    "    for haralick_desc, images, labels in train_loader:\n",
    "        optimizer.zero_grad()\n",
    "        outputs = model(haralick_desc, images)\n",
    "        loss = criterion(outputs, labels)\n",
    "        loss.backward()\n",
    "        optimizer.step()\n",
    "        running_loss += loss.item()\n",
    "    print(f\"Epoch {epoch+1} - Loss: {running_loss/len(train_loader)}\")\n",
    "\n"
   ]
  },
  {
   "cell_type": "markdown",
   "metadata": {},
   "source": [
    "# Avaliação do modelo"
   ]
  },
  {
   "cell_type": "code",
   "execution_count": 43,
   "metadata": {},
   "outputs": [
    {
     "name": "stderr",
     "output_type": "stream",
     "text": [
      "c:\\Python\\Lib\\site-packages\\sklearn\\metrics\\_classification.py:1509: UndefinedMetricWarning: Precision is ill-defined and being set to 0.0 in labels with no predicted samples. Use `zero_division` parameter to control this behavior.\n",
      "  _warn_prf(average, modifier, f\"{metric.capitalize()} is\", len(result))\n"
     ]
    },
    {
     "name": "stdout",
     "output_type": "stream",
     "text": [
      "Test Loss: 4.1437\n",
      "Test Accuracy: 0.2000\n",
      "Test Precision: 0.0400\n",
      "Test Recall: 0.2000\n",
      "Test F1 Score: 0.0667\n"
     ]
    },
    {
     "data": {
      "image/png": "[encoded data removed]",
      "text/plain": [
       "<Figure size 1000x800 with 2 Axes>"
      ]
     },
     "metadata": {},
     "output_type": "display_data"
    }
   ],
   "source": [
    "test_loss, test_accuracy, test_precision, test_recall, test_f1, all_labels, all_preds = evaluate_model(model, test_loader, criterion)\n",
    "print(f\"Test Loss: {test_loss:.4f}\")\n",
    "print(f\"Test Accuracy: {test_accuracy:.4f}\")\n",
    "print(f\"Test Precision: {test_precision:.4f}\")\n",
    "print(f\"Test Recall: {test_recall:.4f}\")\n",
    "print(f\"Test F1 Score: {test_f1:.4f}\")\n",
    "\n",
    "# Plot da matriz de confusão\n",
    "plot_confusion_matrix(all_labels, all_preds, list(dataset.class_to_idx.keys()))"
   ]
  },
  {
   "cell_type": "code",
   "execution_count": null,
   "metadata": {},
   "outputs": [],
   "source": []
  }
 ],
 "metadata": {
  "kernelspec": {
   "display_name": "Python 3",
   "language": "python",
   "name": "python3"
  },
  "language_info": {
   "codemirror_mode": {
    "name": "ipython",
    "version": 3
   },
   "file_extension": ".py",
   "mimetype": "text/x-python",
   "name": "python",
   "nbconvert_exporter": "python",
   "pygments_lexer": "ipython3",
   "version": "3.12.2"
  }
 },
 "nbformat": 4,
 "nbformat_minor": 2
}
