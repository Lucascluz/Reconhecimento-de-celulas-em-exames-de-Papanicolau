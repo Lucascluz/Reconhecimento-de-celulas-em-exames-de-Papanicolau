{
 "cells": [
  {
   "cell_type": "code",
   "execution_count": 6,
   "metadata": {},
   "outputs": [],
   "source": [
    "import os\n",
    "\n",
    "import matplotlib.pyplot as plt\n",
    "import seaborn as sns\n",
    "import torch\n",
    "import torch.nn as nn\n",
    "import torch.optim as optim\n",
    "from torch.utils.data import DataLoader\n",
    "from efficientnet_pytorch import EfficientNet\n",
    "from sklearn.metrics import accuracy_score, confusion_matrix, f1_score, precision_score, recall_score\n",
    "from sklearn.model_selection import train_test_split\n",
    "from torch.utils.data import Dataset\n",
    "from torchvision.io import read_image\n",
    "import torchvision.transforms as transforms\n"
   ]
  },
  {
   "cell_type": "markdown",
   "metadata": {},
   "source": [
    "# Creating Custom DataSet"
   ]
  },
  {
   "cell_type": "code",
   "execution_count": 7,
   "metadata": {},
   "outputs": [],
   "source": [
    "class CellImageDataset(Dataset):\n",
    "    def __init__(self, img_dir, transform=None):\n",
    "        self.img_dir = img_dir\n",
    "        self.labels = []\n",
    "        self.image_paths = []\n",
    "        self.transform = transform\n",
    "        self.class_to_idx = {}\n",
    "\n",
    "        for idx, class_name in enumerate(os.listdir(img_dir)):\n",
    "            self.class_to_idx[class_name] = idx\n",
    "            class_dir = os.path.join(img_dir, class_name)\n",
    "            if os.path.isdir(class_dir):\n",
    "                for img_name in os.listdir(class_dir):\n",
    "                    img_path = os.path.join(class_dir, img_name)\n",
    "                    self.labels.append(idx)\n",
    "                    self.image_paths.append(img_path)\n",
    "\n",
    "    def __len__(self):\n",
    "        return len(self.labels)\n",
    "\n",
    "    def __getitem__(self, idx):\n",
    "        label = self.labels[idx]\n",
    "        image = read_image(self.image_paths[idx])\n",
    "        image = transforms.ToPILImage()(image)  # Convert the tensor image to a PIL Image\n",
    "        if self.transform:\n",
    "            image = self.transform(image)\n",
    "        return image, label"
   ]
  },
  {
   "cell_type": "markdown",
   "metadata": {},
   "source": [
    "# Adapting EficiNet to the Custom DataSet"
   ]
  },
  {
   "cell_type": "code",
   "execution_count": 8,
   "metadata": {},
   "outputs": [],
   "source": [
    "class CustomEfficientNet(nn.Module):\n",
    "    def __init__(self, num_classes):\n",
    "        super(CustomEfficientNet, self).__init__()\n",
    "        self.efficient_net = EfficientNet.from_pretrained('efficientnet-b0')\n",
    "        \n",
    "        # Get the output dimension of the EfficientNet feature extractor\n",
    "        efficient_net_output_dim = self.efficient_net._fc.in_features\n",
    "        self.efficient_net._fc = nn.Identity()  # Remove the final classification layer\n",
    "\n",
    "        # Define the combined fully connected layer\n",
    "        self.fc_combined = nn.Linear(efficient_net_output_dim, num_classes)\n",
    "\n",
    "    def forward(self, images):\n",
    "        efficient_net_out = self.efficient_net(images)\n",
    "        efficient_net_out = torch.flatten(efficient_net_out, 1)\n",
    "        out = self.fc_combined(efficient_net_out)\n",
    "        return out"
   ]
  },
  {
   "cell_type": "code",
   "execution_count": 9,
   "metadata": {},
   "outputs": [],
   "source": [
    "def evaluate_model(model, data_loader, criterion):\n",
    "    model.eval()\n",
    "    running_loss = 0.0\n",
    "    all_labels = []\n",
    "    all_preds = []\n",
    "    with torch.no_grad():\n",
    "        for images, labels in data_loader:\n",
    "            outputs = model(images)\n",
    "            loss = criterion(outputs, labels)\n",
    "            running_loss += loss.item()\n",
    "            \n",
    "            _, preds = torch.max(outputs, 1)\n",
    "            all_labels.extend(labels.cpu().numpy())\n",
    "            all_preds.extend(preds.cpu().numpy())\n",
    "    \n",
    "    avg_loss = running_loss / len(data_loader)\n",
    "    accuracy = accuracy_score(all_labels, all_preds)\n",
    "    precision = precision_score(all_labels, all_preds, average='weighted')\n",
    "    recall = recall_score(all_labels, all_preds, average='weighted')\n",
    "    f1 = f1_score(all_labels, all_preds, average='weighted')\n",
    "    \n",
    "    return avg_loss, accuracy, precision, recall, f1, all_labels, all_preds\n",
    "\n",
    "def plot_confusion_matrix(true_labels, pred_labels, classes):\n",
    "    cm = confusion_matrix(true_labels, pred_labels)\n",
    "    plt.figure(figsize=(10, 8))\n",
    "    sns.heatmap(cm, annot=True, fmt='d', cmap='Blues', xticklabels=classes, yticklabels=classes)\n",
    "    plt.xlabel('Predicted')\n",
    "    plt.ylabel('True')\n",
    "    plt.title('Confusion Matrix')\n",
    "    plt.show()"
   ]
  },
  {
   "cell_type": "markdown",
   "metadata": {},
   "source": [
    "# Defining Hyperparameters"
   ]
  },
  {
   "cell_type": "code",
   "execution_count": 10,
   "metadata": {},
   "outputs": [
    {
     "name": "stdout",
     "output_type": "stream",
     "text": [
      "Loaded pretrained weights for efficientnet-b0\n",
      "Training on device cpu\n"
     ]
    }
   ],
   "source": [
    "img_dir = 'partial_sub_images'\n",
    "transform = transforms.Compose([\n",
    "    transforms.Resize((224, 224)),\n",
    "    transforms.ToTensor()\n",
    "])\n",
    "dataset = CellImageDataset(img_dir, transform=transform)\n",
    "\n",
    "# Dividir o dataset em conjuntos de treino e teste mantendo a proporção de classes\n",
    "train_indices, test_indices = train_test_split(\n",
    "    range(len(dataset.labels)),\n",
    "    test_size=0.2,\n",
    "    random_state=42,\n",
    "    stratify=dataset.labels\n",
    ")\n",
    "\n",
    "train_set = torch.utils.data.Subset(dataset, train_indices)\n",
    "test_set = torch.utils.data.Subset(dataset, test_indices)\n",
    "\n",
    "# Criar os dataloaders para os conjuntos de treino e teste\n",
    "batch_size = 32\n",
    "train_loader = DataLoader(train_set, batch_size=batch_size, shuffle=True)\n",
    "test_loader = DataLoader(test_set, batch_size=batch_size, shuffle=False)\n",
    "\n",
    "num_classes = len(dataset.class_to_idx)\n",
    "model = CustomEfficientNet(num_classes)\n",
    "\n",
    "criterion = nn.CrossEntropyLoss()\n",
    "optimizer = optim.Adam(model.parameters(), lr=0.001)\n",
    "\n",
    "device = torch.device(\"cuda\" if torch.cuda.is_available() else \"cpu\")\n",
    "print(f\"Training on device {device}\")"
   ]
  },
  {
   "cell_type": "markdown",
   "metadata": {},
   "source": [
    "# Treinamento do modelo"
   ]
  },
  {
   "cell_type": "code",
   "execution_count": 11,
   "metadata": {},
   "outputs": [
    {
     "name": "stdout",
     "output_type": "stream",
     "text": [
      "Epoch 1 - Loss: 0.9600343036651612\n",
      "Epoch 2 - Loss: 0.4451063370704651\n",
      "Epoch 3 - Loss: 0.26978312045335767\n",
      "Epoch 4 - Loss: 0.14211787655949593\n",
      "Epoch 5 - Loss: 0.16761755846440793\n",
      "Epoch 6 - Loss: 0.14023838728666305\n",
      "Epoch 7 - Loss: 0.08278245996683836\n",
      "Epoch 8 - Loss: 0.05388678127899766\n",
      "Epoch 9 - Loss: 0.055436396207660436\n",
      "Epoch 10 - Loss: 0.0951104853861034\n",
      "Epoch 11 - Loss: 0.11762717455625533\n",
      "Epoch 12 - Loss: 0.07996384338475764\n",
      "Epoch 13 - Loss: 0.06847766552120448\n",
      "Epoch 14 - Loss: 0.02800130147486925\n",
      "Epoch 15 - Loss: 0.02142346924636513\n",
      "Epoch 16 - Loss: 0.029486565827392043\n",
      "Epoch 17 - Loss: 0.028616219637915493\n",
      "Epoch 18 - Loss: 0.01905607119668275\n",
      "Epoch 19 - Loss: 0.0303512599831447\n",
      "Epoch 20 - Loss: 0.12532957536634057\n",
      "Epoch 21 - Loss: 0.13443679008632897\n",
      "Epoch 22 - Loss: 0.09098058535717428\n",
      "Epoch 23 - Loss: 0.061032517971470954\n",
      "Epoch 24 - Loss: 0.042585284130182116\n",
      "Epoch 25 - Loss: 0.013667157518211752\n",
      "Epoch 26 - Loss: 0.026942710595903918\n",
      "Epoch 27 - Loss: 0.04959957691724412\n",
      "Epoch 28 - Loss: 0.09004947000183165\n",
      "Epoch 29 - Loss: 0.035598024763166904\n",
      "Epoch 30 - Loss: 0.028853958589024842\n"
     ]
    }
   ],
   "source": [
    "\n",
    "for epoch in range(30):\n",
    "    model.train()\n",
    "    running_loss = 0.0\n",
    "    for images, labels in train_loader:\n",
    "        optimizer.zero_grad()\n",
    "        outputs = model(images)\n",
    "        loss = criterion(outputs, labels)\n",
    "        loss.backward()\n",
    "        optimizer.step()\n",
    "        running_loss += loss.item()\n",
    "    print(f\"Epoch {epoch+1} - Loss: {running_loss/len(train_loader)}\")\n"
   ]
  },
  {
   "cell_type": "code",
   "execution_count": 12,
   "metadata": {},
   "outputs": [],
   "source": [
    "    \n",
    "# Salvar o modelo em um arquivo\n",
    "torch.save(model.state_dict(), 'custom_eficinet_model_6_categories.pth')"
   ]
  },
  {
   "cell_type": "markdown",
   "metadata": {},
   "source": [
    "# Avaliação do modelo"
   ]
  },
  {
   "cell_type": "code",
   "execution_count": 13,
   "metadata": {},
   "outputs": [
    {
     "name": "stdout",
     "output_type": "stream",
     "text": [
      "Test Loss: 0.9076\n",
      "Test Accuracy: 0.7449\n",
      "Test Precision: 0.7872\n",
      "Test Recall: 0.7449\n",
      "Test F1 Score: 0.7517\n"
     ]
    },
    {
     "data": {
      "image/png": "[encoded data removed]",
      "text/plain": [
       "<Figure size 1000x800 with 2 Axes>"
      ]
     },
     "metadata": {},
     "output_type": "display_data"
    }
   ],
   "source": [
    "test_loss, test_accuracy, test_precision, test_recall, test_f1, all_labels, all_preds = evaluate_model(model, test_loader, criterion)\n",
    "print(f\"Test Loss: {test_loss:.4f}\")\n",
    "print(f\"Test Accuracy: {test_accuracy:.4f}\")\n",
    "print(f\"Test Precision: {test_precision:.4f}\")\n",
    "print(f\"Test Recall: {test_recall:.4f}\")\n",
    "print(f\"Test F1 Score: {test_f1:.4f}\")\n",
    "\n",
    "# Plot da matriz de confusão\n",
    "plot_confusion_matrix(all_labels, all_preds, list(dataset.class_to_idx.keys()))"
   ]
  }
 ],
 "metadata": {
  "kernelspec": {
   "display_name": "Python 3",
   "language": "python",
   "name": "python3"
  },
  "language_info": {
   "codemirror_mode": {
    "name": "ipython",
    "version": 3
   },
   "file_extension": ".py",
   "mimetype": "text/x-python",
   "name": "python",
   "nbconvert_exporter": "python",
   "pygments_lexer": "ipython3",
   "version": "3.12.2"
  }
 },
 "nbformat": 4,
 "nbformat_minor": 2
}
