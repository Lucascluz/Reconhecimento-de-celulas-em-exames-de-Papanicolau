{
 "cells": [
  {
   "cell_type": "code",
   "execution_count": 1,
   "metadata": {},
   "outputs": [],
   "source": [
    "import cv2\n",
    "import numpy as np\n",
    "from PIL import Image\n",
    "\n",
    "# Abra a imagem com a PIL\n",
    "image_pil = Image.open('images/0a2a5a681410054941cc56f51eb8fbda.png')\n",
    "\n",
    "# Converta a imagem PIL para uma imagem RGB e depois para uma matriz numpy\n",
    "image_pil_rgb = image_pil.convert('RGB')\n",
    "image_np = np.array(image_pil_rgb)\n",
    "\n",
    "# Use o OpenCV para converter a imagem para tons de cinza\n",
    "image_gray = cv2.cvtColor(image_np, cv2.COLOR_RGB2GRAY)\n",
    "\n",
    "# Converta a imagem em tons de cinza de volta para o formato PIL\n",
    "image_gray_pil = Image.fromarray(image_gray)\n",
    "\n",
    "# Salve a imagem em tons de cinza\n",
    "image_gray_pil.save('caminho_para_sua_imagem_em_tons_de_cinza.jpg')"
   ]
  }
 ],
 "metadata": {
  "kernelspec": {
   "display_name": "Python 3",
   "language": "python",
   "name": "python3"
  },
  "language_info": {
   "codemirror_mode": {
    "name": "ipython",
    "version": 3
   },
   "file_extension": ".py",
   "mimetype": "text/x-python",
   "name": "python",
   "nbconvert_exporter": "python",
   "pygments_lexer": "ipython3",
   "version": "3.12.2"
  }
 },
 "nbformat": 4,
 "nbformat_minor": 2
}
